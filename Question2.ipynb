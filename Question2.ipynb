{
 "cells": [
  {
   "cell_type": "markdown",
   "id": "43943ace",
   "metadata": {},
   "source": [
    "# Question 2: Calculate Kinetik Energy"
   ]
  },
  {
   "cell_type": "code",
   "execution_count": 1,
   "id": "9196010b",
   "metadata": {},
   "outputs": [],
   "source": [
    "import numpy as np"
   ]
  },
  {
   "cell_type": "markdown",
   "id": "8b830bc7",
   "metadata": {},
   "source": [
    "Import data:"
   ]
  },
  {
   "cell_type": "code",
   "execution_count": 11,
   "id": "47308684",
   "metadata": {},
   "outputs": [],
   "source": [
    "theta_deg = np.array([5, 10, -3]) # Yaw (ψ), Pitch (θ), Roll (φ)\n",
    "theta_rad = np.radians(theta_deg)\n",
    "theta_dot_deg = np.array([-1, 1, 4]) # Yaw rate (dψ/dt), Pitch rate (dθ/dt), Roll rate (dφ/dt)\n",
    "theta_dot_rad = np.radians(theta_dot_deg)\n",
    "\n",
    "v = 5 # m/s\n",
    "m = 100 # kg\n",
    "I = np.array([[34, 1, 6], [1, 15, 3], [6, 3, 10]]) # Inertia matrix in kg*m^2"
   ]
  },
  {
   "cell_type": "markdown",
   "id": "91e30279",
   "metadata": {},
   "source": [
    "Convert 3-2-1 euler angle rates to omega"
   ]
  },
  {
   "cell_type": "code",
   "execution_count": 10,
   "id": "9fac37af",
   "metadata": {},
   "outputs": [
    {
     "name": "stdout",
     "output_type": "stream",
     "text": [
      "Angular velocity (rad/s): [ 0.0728439   0.01832893 -0.01625115]\n"
     ]
    }
   ],
   "source": [
    "A = np.array([[-np.sin(theta_rad[1]), 0, 1],\n",
    "              [np.cos(theta_rad[1])*np.sin(theta_rad[2]), np.cos(theta_rad[2]), 0],\n",
    "              [np.cos(theta_rad[1])*np.cos(theta_rad[2]), -np.sin(theta_rad[2]), 0]])\n",
    "omega = A @ theta_dot_rad\n",
    "print(\"Angular velocity (rad/s):\", omega)"
   ]
  },
  {
   "cell_type": "markdown",
   "id": "e9b33720",
   "metadata": {},
   "source": [
    "Calculate Kinetic Energy"
   ]
  },
  {
   "cell_type": "code",
   "execution_count": 14,
   "id": "990a74ad",
   "metadata": {},
   "outputs": [
    {
     "name": "stdout",
     "output_type": "stream",
     "text": [
      "Translational Kinetic Energy (J): 1250.0\n",
      "Rotational Kinetic Energy (J): 0.08738487252409395\n",
      "Total Kinetic Energy (J): 1250.0873848725241\n"
     ]
    }
   ],
   "source": [
    "T = 0.5 * m * v**2 + 0.5 * omega.T @ I @ omega\n",
    "print(\"Translational Kinetic Energy (J):\", 0.5 * m * v**2)\n",
    "print(\"Rotational Kinetic Energy (J):\", 0.5 * omega.T @ I @ omega)\n",
    "print(\"Total Kinetic Energy (J):\", T)"
   ]
  }
 ],
 "metadata": {
  "kernelspec": {
   "display_name": "a2e",
   "language": "python",
   "name": "python3"
  },
  "language_info": {
   "codemirror_mode": {
    "name": "ipython",
    "version": 3
   },
   "file_extension": ".py",
   "mimetype": "text/x-python",
   "name": "python",
   "nbconvert_exporter": "python",
   "pygments_lexer": "ipython3",
   "version": "3.11.4"
  }
 },
 "nbformat": 4,
 "nbformat_minor": 5
}
